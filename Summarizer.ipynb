{
 "cells": [
  {
   "cell_type": "code",
   "execution_count": 1,
   "metadata": {},
   "outputs": [],
   "source": [
    "# Necessary imports\n",
    "import requests\n",
    "from bs4 import BeautifulSoup as bs\n",
    "import re\n",
    "import nltk\n",
    "import heapq"
   ]
  },
  {
   "cell_type": "code",
   "execution_count": 2,
   "metadata": {},
   "outputs": [
    {
     "name": "stderr",
     "output_type": "stream",
     "text": [
      "[nltk_data] Downloading package punkt to\n",
      "[nltk_data]     /Users/dizquierdo/nltk_data...\n",
      "[nltk_data]   Package punkt is already up-to-date!\n",
      "[nltk_data] Downloading package stopwords to\n",
      "[nltk_data]     /Users/dizquierdo/nltk_data...\n",
      "[nltk_data]   Package stopwords is already up-to-date!\n"
     ]
    },
    {
     "data": {
      "text/plain": [
       "True"
      ]
     },
     "execution_count": 2,
     "metadata": {},
     "output_type": "execute_result"
    }
   ],
   "source": [
    "# Necessary downloads\n",
    "nltk.download('punkt')\n",
    "nltk.download('stopwords')"
   ]
  },
  {
   "cell_type": "code",
   "execution_count": 3,
   "metadata": {},
   "outputs": [],
   "source": [
    "# Article requests which returns a dictionary of url and headline\n",
    "def get_articles(query):\n",
    "    soup = bs(requests.get('https://www.sciencenews.org/?s='+re.sub('/s','+',query)).text,'html.parser')\n",
    "    articles = {}\n",
    "    for h in soup.find_all('h3'):\n",
    "        a = h.find('a')\n",
    "        if a:\n",
    "            articles[a.get('href')]=a.text.strip()\n",
    "    return articles"
   ]
  },
  {
   "cell_type": "code",
   "execution_count": 4,
   "metadata": {},
   "outputs": [],
   "source": [
    "# Get a list of articles to request\n",
    "articles = get_articles('climate change')"
   ]
  },
  {
   "cell_type": "code",
   "execution_count": 5,
   "metadata": {},
   "outputs": [],
   "source": [
    "# Summarization pipeline which takes in a single url\n",
    "def produce_summary(url):\n",
    "    # Request given article\n",
    "    article = bs(requests.get(url).text, 'html.parser')\n",
    "    # Get a list of all sentences in the article\n",
    "    sentences = [p.text for p in article.find('article').find_all('p')]\n",
    "    # Find just the headline\n",
    "    headline = sentences[0:3:2]\n",
    "    # Find the likely end of the article\n",
    "    idx = [idx for idx,sentence in enumerate(sentences) if re.search('Questions or comments?',sentence)][0]\n",
    "    # Take just the text of the article and join it\n",
    "    text = sentences[4:idx]\n",
    "    joined_sentences = ' '.join(text)\n",
    "    # Preprocess full text\n",
    "    joined_sentences = re.sub(r'\\(SN: [\\s\\d\\,\\.p/]+\\)',' ', joined_sentences)\n",
    "    formatted_text = re.sub(r'\\s+', ' ', joined_sentences)\n",
    "    formatted_text = re.sub('[^a-zA-Z]', ' ', formatted_text )\n",
    "    formatted_text = re.sub(r'\\s+', ' ', formatted_text)\n",
    "    # Retokenize processed sentences and load standard stopwords\n",
    "    sentence_list = nltk.sent_tokenize(joined_sentences)\n",
    "    stopwords = nltk.corpus.stopwords.words('english')\n",
    "\n",
    "    # Determine word frequencies for full article\n",
    "    word_frequencies = {}\n",
    "    for word in nltk.word_tokenize(formatted_text):\n",
    "        if word not in stopwords:\n",
    "            if word not in word_frequencies.keys():\n",
    "                word_frequencies[word] = 1\n",
    "            else:\n",
    "                word_frequencies[word] += 1\n",
    "    maximum_frequncy = max(word_frequencies.values())\n",
    "\n",
    "    # Scale frequencies to most common non-stop word\n",
    "    for word in word_frequencies.keys():\n",
    "        word_frequencies[word] = (word_frequencies[word]/maximum_frequncy)\n",
    "        \n",
    "    # Get a score for each sentence based on the word frequencies that comprise it\n",
    "    sentence_scores = {}\n",
    "    for sent in sentence_list:\n",
    "        for word in nltk.word_tokenize(sent.lower()):\n",
    "            if word in word_frequencies.keys():\n",
    "                if len(sent.split(' ')) < 30:\n",
    "                    if sent not in sentence_scores.keys():\n",
    "                        sentence_scores[sent] = word_frequencies[word]\n",
    "                    else:\n",
    "                        sentence_scores[sent] += word_frequencies[word]\n",
    "    # Return sqrt(n) highest scoring sentences in descending order of weight \n",
    "    summary_sentences = heapq.nlargest(int(len(sentence_list)**(1/2)), sentence_scores, key=sentence_scores.get)\n",
    "    summary = ' '.join(summary_sentences)\n",
    "    return summary"
   ]
  },
  {
   "cell_type": "code",
   "execution_count": 6,
   "metadata": {},
   "outputs": [
    {
     "name": "stdout",
     "output_type": "stream",
     "text": [
      "Aye-ayes just got weirder with the discovery of a tiny, sixth ‘finger’\n",
      "Instead, the little lemurs’ hands may have become too specialized, with thin, elongated fingers, including an especially long third digit that has a ball-and-socket joint. Giant pandas may have acquired that extra digit after the rest of their fingers became less specialized so that the bears could better walk. Then the primates bite the wood, puncturing a hole, and again use their long third finger for fishing out bugs and grubs found inside. The tiny lemurs of Madagascar, known for their large cartoonish ears and continuously growing incisor teeth, also have a sixth “finger” on each hand.\n",
      "\n",
      "Light from outside the skull can turn on nerve cells in monkey brains\n",
      "Controlling nerve cell behavior with light, a method called optogenetics, often requires thin optical fibers to be implanted in the brain  . CHICAGO — Light pulses from outside a monkey’s brain can activate nerve cells deep within. This external control, described October 20 at the annual meeting of the Society for Neuroscience, might someday help scientists treat brain diseases such as epilepsy.\n",
      "\n",
      "Alzheimer’s may scramble metabolism’s connection to sleep\n",
      "In mice with amyloid plaques, higher blood sugar led to a slight rise in brain metabolism, but not nearly as much as in a normal mouse. In mice with lots of tau, however, high blood sugar didn’t increase brain metabolism. Injections of glucose into the blood led to changes in the brain: a burst of metabolism, a bump in nerve cell activity and more time spent awake. “Your head is attached to your body,” says neuroscientist Shannon Macauley of Wake Forest School of Medicine in Winston-Salem, N.C. Metabolism, sleep and brain health “don’t happen in isolation,” she says. “They’re going to run around in a circle.”  But a dip in blood sugar, caused by insulin injections, also led to more nerve cell action and more wakefulness.\n",
      "\n",
      "Prozac proves no better than a placebo in treating kids with autism\n",
      "Reddihough and her colleagues spent seven years recruiting participants for their clinical trial of Prozac, also known as fluoxetine, to test whether the drug was effective for children with autism. Prozac, a commonly prescribed medication for kids and teens with autism, is no more effective than a placebo at treating obsessive-compulsive behaviors, a small study finds. The new study helps show that “SSRIs are not the medication clinicians should go to first” for children and adolescents with autism. “Despite their widespread use, there is no evidence of effectiveness of SSRIs for autism spectrum disorders in children,” she says.\n",
      "\n",
      "New books explore why dogs and humans have such a special bond\n",
      "Not only do dogs love us, he argues, but it is their capacity and desire to connect with humans that makes dogs unique. That might mean changing the laws that govern dog ownership and how we treat dogs, rethinking our devotion to purebreds and finding better ways to control overpopulation and deal with strays. But acknowledging their capacity for love is the only way to make sense of why dogs are so devoted to us and thrive in our company, he argues. The first makes a compelling case that dogs do far more than just obey us — they love us. Dogs’ genetic makeup predisposes them to be loving  , Wynne argues, and early exposure to humans (or even other animals) solidifies the connection. Wynne argues that no-kill shelters often become little more than “canine warehouses,” housing dogs that have no hope of being adopted. Dogs are suited to be companions, but many spend the majority of their lives alone, awaiting the return of their humans.\n",
      "\n",
      "Powerful storms may be causing offshore ‘stormquakes’\n",
      "Instead, stormquakes were confined to certain regions along the coast where seafloor topography maps indicated that there were small raised regions called ocean banks. It’s interesting that the researchers were able to track the sources of some of the seismic signals back in time to the storms, says geophysicist Lucia Gualtieri of Stanford University. Off New Jersey, Fan says, the seafloor descends in a gentle grade along the continental shelf toward deeper ocean. In other words, a very particular combination of hurricane, ocean waves and seafloor shape may be required to produce a perfect stormquake. Powerful hurricanes can whip the ocean into a frenzy — and that wave energy can be strong enough to hammer the seafloor, producing a novel kind of quake. He became excited, he says, when he found what he thought were previously undetected offshore earthquakes occurring in that mysterious seismic band.\n",
      "\n",
      "Humpback whales use their flippers and bubble ‘nets’ to catch fish\n",
      "Over the three-year study from 2016 to 2018, the team noticed that two whales repeatedly consolidated fish inside bubble nets using their two long, pectoral flippers. In horizontal pectoral herding, whales blew a bubble net before splashing a flipper at weak parts of the net to reinforce the barrier. Although they observed the behavior in only a few whales feeding near salmon hatcheries  , Kosma speculates that other humpbacks also use their flippers in similar ways when feeding.\n",
      "\n",
      "50 years ago, an Antarctic fossil pointed to Gondwanaland’s existence\n",
      "The animal lived on the continental mash-up of South America, Africa, India, Australia and Antarctica that existed from around 600 million to 180 million years ago. Another Antarctic expedition, in 1970, found a 200-million-year-old skeleton of a cynodont reptile, which resembled remains found in South America and India  .\n",
      "\n",
      "Astronomers have spotted a new type of storm on Saturn\n",
      "These weather disturbances were larger than storms previously seen on the gas giant, but nowhere near as big as Saturn’s rare Great White Spots. Not all of the storms were visible simultaneously; the shortest-lived lasted about 10 days while the longest-running storm raged for 214 days. In 2018, telescopes on the ground and in space spotted a series of storms near Saturn’s North Pole (white spots indicated by black arrows). Small storms typically boast a few flashes per minute and Great White Spots several flashes per second. Telescope images have revealed a newfound type of storm activity that raged near Saturn’s North Pole in 2018, researchers report online October 21 in Nature Astronomy.\n",
      "\n",
      "How the second known interstellar visitor makes ‘Oumuamua seem even odder\n",
      "Now, new telescope images confirm that a second interstellar object called 2I/Borisov (originally dubbed C/2019 Q4 (Borisov)) looks like a garden-variety comet, researchers report online October 14 in Nature Astronomy. The second space rock seen visiting our solar system from another star is proving just how bizarre the first known interstellar object, ‘Oumuamua, really was. Those images reveal that, like comets native to our solar system, 2I/Borisov’s core is shrouded in a gaseous halo trailed by a faint, broad stream of gas and dust. Preliminary wavelength observations have already hinted that 2I/Borisov contains cyanogen gas (made of carbon and nitrogen atoms), which is relatively common in comets native to the solar system.\n",
      "\n",
      "A supermassive black hole shredded a star and was caught in the act\n",
      "A typical galaxy contains around a billion or 10 billion stars, “so this was outshining every other star in its galaxy,” Holoien says. Such data also could help answer how black holes form, and whether this type of star-shredding activity plays into galaxy evolution, Holoien says. Every so often, a celestial slasher film plays out in the heavens, as a supermassive black hole shreds a star and swallows part of it. The rest looped around the black hole, crashing into itself and forming a spiraling ring of glowing, hot gas called an accretion disk.\n",
      "\n",
      "Physicists have found quasiparticles that mimic hypothetical dark matter axions\n",
      "The axions analogs within the crystal are a type of quasiparticle, a disturbance in a material that can mimic fundamental particles like axions. Lurking within a solid crystal is a phenomenon that is mathematically similar to proposed subatomic particles called axions, physicist Johannes Gooth and colleagues report online October 7 in Nature. If axions exist as fundamental particles, they could constitute a hidden form of matter in the cosmos, dark matter. That current grew quickly as the researchers ramped up the electric field’s strength, in a way that is a fingerprint of axion quasiparticles.\n",
      "\n",
      "A new cooling technique relies on untwisting coiled fibers\n",
      "When twisted tightly enough, the various types of strands formed coils or even supercoils — coils of coils. To study this effect, a team of scientists from China, the United States and Brazil twisted fibers of rubber, fishing line and wires made of a nickel and titanium alloy. Called twistocaloric cooling, the method involves unwinding tightly twisted strands of various materials. Unraveling cables made of several strands twisted together produced cooling as well.\n",
      "\n",
      "Physics Nobel awarded for discoveries about the universe’s evolution and exoplanets\n",
      "Both are frontiers.”  Like dark matter and dark energy, Mayor and Queloz’s discovery — the first exoplanet around a sunlike star — was also not visible directly. Peebles showed that “dark matter was in the driver’s seat.” The influence of the still-undetected dark matter particles was essential to forming the structures of the cosmos observed today. The work eventually helped to reveal the mysterious components of the cosmos — dark matter and dark energy. He noted that plenty of questions remain in cosmology, like the identity of dark matter and dark energy. Peebles’ work helped establish that only 5 percent of the contents of the universe is the ordinary matter that makes up planets and people  . Since 51 Pegasi b, “astronomers have been moving toward smaller planets and cooler planets” that are more like Earth, Charbonneau says. “There’s a reason [51 Pegasi b] was found first — it’s the easiest type of planet to find,” says exoplanet scientist David Charbonneau of Harvard University.\n",
      "\n",
      "Readers contemplate climate change and neural connections\n",
      "“But there’s a lot we don’t know about consequences.” Some experiments hint that iron fertilization of the ocean could boost levels of nitrous oxide or methane in the atmosphere. What’s more, big blooms in one locale could take additional nutrients away from other areas, she says. In theory, more blooms could mean more carbon gets stored in the deep ocean.\n",
      "\n",
      "Climate change may be throwing coral sex out of sync\n",
      "Biologists have certainly fretted that climate change might also knock coral spawning synchrony askew, says James Guest, a coral biologist at Newcastle University in England. Spawning is out of sync for at least three widespread coral species in the Red Sea, says Tom Shlesinger, a marine biologist at Tel Aviv University. Data from 1980 to 1982 on the five studied species show consistent, synchronous patterns of mass spawning, based on regular lab exams of coral samples plus nighttime swims. Every two or three seasons, they split their spawning into two separate bursts, thus coping with the way moon phases cycle faster than annual cues. Shlesinger had seen corals spawn elsewhere, but the night he finally got the timing right to catch an event in the Red Sea was “magical,” he says. And some corals have a bit of natural play in their timing, says Taryn Foster, a coral biologist at the California Academy of Sciences in San Francisco.\n",
      "\n",
      "In a climate crisis, is geoengineering worth the risks?\n",
      "Ocean seeding, or iron fertilization, is unusual among geoengineering projects: Unlike most geoengineering proposals, ocean seeding has actually been tried in the real world. Yet after several weeks of monitoring carbon export from the surface waters to deeper waters, the scientists estimated carbon sequestration to be only about 200 tons of carbon per ton of iron. Scientists scattered iron across 12 separate 100-square-kilometer patches of ocean: four in the northwest Pacific Ocean, two in the equatorial Pacific and six in the Southern Ocean  . What hints scientists do have about the possible effects of geoengineering come from “natural experiments” such as massive volcanic eruptions that briefly but intensely alter atmospheric or ocean conditions  . Laboratory experiments suggested that as much as 100,000 metric tons of carbon per ton of iron added might be sequestered. But the experiments also prompted a powerful response from environmental groups, effectively halting follow-up ocean seeding experiments. Added snow, the team found, might stabilize the ice sheet by replacing ice being lost on its underside to melting by warmer ocean waters.\n",
      "\n",
      "Malin Pinsky seeks to explain how climate change alters ocean life\n",
      "Pinsky’s team is also seeking to understand exactly how a changing climate, as well as overfishing and habitat destruction, might be driving changes in fish and other marine populations. For this, team members travel each year to coral reefs near the Philippines to catalog populations of clown fish, collecting data on growth and mating, sex diversity and other factors. Another focus is whether recent climate change is leading to rapid genetic changes among Atlantic cod and other marine fishes and resulting in, for instance, fish maturing at younger ages. Marine biologist Michelle Stuart, who has worked in Pinsky’s lab at Rutgers since 2013, recalls sitting on the team’s boat, exhausted after a long day of fieldwork. No.”) But over the last four years, she says, Pinsky’s leadership style has evolved, and he now creates space where ideas have room to grow.\n",
      "\n",
      "How climate change is already altering oceans and ice, and what’s to come\n",
      "Meanwhile, the Antarctic ice sheet lost an average 155 billion tons per year, or roughly enough to raise seas by an average 0.43 millimeters per year  . Although the sea ice expands and contracts over the course of a year, the overall amount of ice has steadily declined since 1979, the IPCC says. In a low-emissions future, sea level rise could reach an average 4 millimeters per year in 2100, compared with 15 millimeters per year in a high-emissions future. So much melting has left little ice that has endured for at least five years (such hardened ice is expected to be sturdier than single-season ice). In fact, as of last year, the fraction of sea ice older than five years had declined by about 90 percent since 1979, the report says. The Greenland ice sheet lost an average 278 billion tons of ice per year from 2006 to 2015. Even with global action against climate change, the two massive ice sheets are still expected to contribute a combined 11 centimeters or so of sea level rise by 2100. That amount of water alone is enough to cause average global sea levels to rise about 0.77 millimeters per year.\n",
      "\n",
      "IPCC report warns of a bleak future for oceans and frozen regions under climate change\n",
      "And it came amidst a surge of global protests, climate strikes and calls for nations around the world to dramatically curb greenhouse gas emissions in hopes of limiting future warming. The new report emphasizes the need to “slash emissions, and do it quickly, or these impacts highlighted in the report will quickly become irreversible…. Since 1993, the rate of warming in the oceans has more than doubled, scientists report in a new study by the U.N. Intergovernmental Panel on Climate Change, or IPCC. Earth’s oceans and frozen regions are changing alarmingly quickly, scientists warn in the first comprehensive look at how greenhouse gas emissions are altering the planet’s seas and cryosphere. Hoegh-Guldberg and colleagues recently assessed ways to harness ocean resources to reduce or mitigate global greenhouse gas emissions. While the IPCC report rings an alarm bell, there is hope, says climate scientist Ove Hoegh-Guldberg, who heads the Global Change Institute at the University of Queensland in Australia.\n",
      "\n",
      "Climate change could raise the risk of deadly fungal infections in humans\n",
      "But climate change may be challenging those defenses, bringing new fungal threats to human health, a microbiologist warns. While fungal diseases have devastated many animal and plant species, humans and other mammals have mostly been spared. That’s probably because mammals have body temperatures too warm for most fungi to replicate as well as powerful immune systems. The fungus causes dangerous infections of the blood, brain, heart and other parts of the body.\n",
      "\n",
      "Climate change may make El Niño and La Niña less predictable\n",
      "Future El Niños and La Niñas may not follow the Atlantic events as reliably as in the past, new simulations suggest. That’s because these events will become less connected with what happens halfway around the world in the Atlantic, researchers report online August 21 in Science Advances. Climate change may make it harder to predict the most severe of the El Niño and La Niña weather disturbances in the Pacific Ocean. Computer simulations revealed how the Atlantic-Pacific relationship might change if climate-warming carbon emissions continue to rise throughout the 21st century.\n",
      "\n",
      "Nepal is reeling from an unprecedented dengue outbreak\n",
      "A hotter climate helps mosquito larvae develop faster into adulthood, while also increasing the rate at which the dengue virus replicates within the mosquito, she says. An estimated 390 million people worldwide get dengue infections every year, with about a quarter developing symptoms, researchers said in a 2013 paper in Nature. The country had its first-ever dengue outbreak in 2006, but only a handful of people were affected that year from lowland districts along the southern border with India. At least 9,000 people — from 65 of Nepal’s 77 districts — have been diagnosed with dengue since August, including six patients who have died, according to government health data. But studies show that atmospheric temperatures are the most important drivers for dengue distribution and risk, followed by rainfall patterns, according to a 2016 review paper in Environmental Research.\n",
      "\n",
      "Why this warmer world is not just a passing phase\n",
      "And scientists are increasingly linking extreme weather events worldwide, from heat waves to hurricanes, to human-caused climate change  . Our charge at Science News is to continue to report on the science while chronicling humankind’s responses, for good or ill. Freelancer Mary Caperton Morton explains how policy makers and scientists are racing to develop responses to keep the venerable city functioning as the water moves inland. This one is clearly different, the data show: Those earlier temperature fluctuations were regional; what’s happening now is worldwide.\n",
      "\n",
      "Climate misinformation may be thriving on YouTube, a social scientist warns\n",
      "Most strikingly, 91 videos promote conspiracy theories about climate change or climate engineering, particularly about so-called chemtrails, Allgaier reports July 25 in Frontiers in Communication. But four feature neutral debates between scientists and climate change skeptics, and 16 deny that humans are causing climate change. Those science skeptics questioned the fact that human activities are driving climate change, the use of chemotherapy to treat cancer and the safety of vaccines. But newer terms like “geoengineering” and “climate modification” lead to those chemtrail videos almost 93 percent of the time. Chemtrailers believe politicians or government agents are spreading toxic chemicals through airplanes’ condensation trails — an idea unrelated to climate change, and not supported by science.\n",
      "\n",
      "Hurricane Dorian’s slow pace makes it dangerous and hard to predict\n",
      "It slouched northward toward the U.S. coast as a category 2 hurricane, with sustained winds of about 177 kilometers per hour (110 miles per hour). One is how climate change might be affecting the path that hurricanes take, which would include the propensity to stall. That’s the second slowest trek for an Atlantic hurricane after 1965’s Hurricane Betsy, a category 4 storm. Hall talked to Science News about Dorian’s stall and what scientists can and can’t say about linking slowed storms to climate change. Stalled-out cyclones mean more extreme rainfall — and significantly increased hazard for coastal populations lying in the storms’ paths. Hall: [As far as what] we know about climate change and hurricanes, some things are virtually certain.\n"
     ]
    }
   ],
   "source": [
    "# Print returns\n",
    "print('\\n\\n'.join([headline+'\\n'+re.sub('\\n',' ',produce_summary(url)) for url,headline in articles.items()]))"
   ]
  },
  {
   "cell_type": "code",
   "execution_count": null,
   "metadata": {},
   "outputs": [],
   "source": []
  }
 ],
 "metadata": {
  "kernelspec": {
   "display_name": "Climate",
   "language": "python",
   "name": "climate"
  },
  "language_info": {
   "codemirror_mode": {
    "name": "ipython",
    "version": 3
   },
   "file_extension": ".py",
   "mimetype": "text/x-python",
   "name": "python",
   "nbconvert_exporter": "python",
   "pygments_lexer": "ipython3",
   "version": "3.7.4"
  }
 },
 "nbformat": 4,
 "nbformat_minor": 2
}
