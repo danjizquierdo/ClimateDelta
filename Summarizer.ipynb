{
 "cells": [
  {
   "cell_type": "code",
   "execution_count": 1,
   "metadata": {},
   "outputs": [],
   "source": [
    "# Necessary imports\n",
    "import requests\n",
    "from bs4 import BeautifulSoup as bs\n",
    "import re\n",
    "import nltk\n",
    "import heapq\n",
    "import html"
   ]
  },
  {
   "cell_type": "code",
   "execution_count": 2,
   "metadata": {
    "scrolled": true
   },
   "outputs": [
    {
     "name": "stderr",
     "output_type": "stream",
     "text": [
      "[nltk_data] Downloading package punkt to\n",
      "[nltk_data]     /Users/dizquierdo/nltk_data...\n",
      "[nltk_data]   Package punkt is already up-to-date!\n",
      "[nltk_data] Downloading package stopwords to\n",
      "[nltk_data]     /Users/dizquierdo/nltk_data...\n",
      "[nltk_data]   Package stopwords is already up-to-date!\n"
     ]
    },
    {
     "data": {
      "text/plain": [
       "True"
      ]
     },
     "execution_count": 2,
     "metadata": {},
     "output_type": "execute_result"
    }
   ],
   "source": [
    "# Necessary downloads\n",
    "nltk.download('punkt')\n",
    "nltk.download('stopwords')"
   ]
  },
  {
   "cell_type": "code",
   "execution_count": 115,
   "metadata": {},
   "outputs": [],
   "source": [
    "# Article requests which returns a dictionary of url and headline\n",
    "def get_articles(query, amt=0):\n",
    "#     headers = {'User-Agent': 'Mozilla/5.0 (Macintosh; Intel Mac OS X 10_10_1) AppleWebKit/537.36 (KHTML, like Gecko) Chrome/39.0.2171.95 Safari/537.36'}\n",
    "    soup = bs(requests.get('https://www.scirp.org/journal/Articles.aspx?searchCode='+re.sub('\\s','+',query)+\n",
    "                           '&searchField=All&page=1&SKID=58821535').text,'html.parser')\n",
    "    articles = []\n",
    "    for count, result in enumerate(soup.find_all('div', class_='reviewpaper')):\n",
    "        article = {}\n",
    "        if not amt or count<amt:\n",
    "            for p in result.find_next_siblings(): \n",
    "                if p.span:\n",
    "                    article['href']=p.span.a.get('href')[2:]\n",
    "                    break\n",
    "                else:\n",
    "                    continue\n",
    "#             link = result.find_next_sibling().find('a')\n",
    "#             if link:\n",
    "#                 article['href']=link.get('href')\n",
    "            authors = result.find_next_sibling().find_next_sibling().find_all('a')\n",
    "            cite = {}\n",
    "            for author in authors:\n",
    "                cite[author.text]=author.get('href')\n",
    "            article['authors']=cite\n",
    "            articles.append(article)\n",
    "        else:\n",
    "            break\n",
    "        try:\n",
    "            summarize(article)\n",
    "        except ValueError as e:\n",
    "            print(f'Error found on {article[\"href\"]} with error {e}')\n",
    "            amt+=1\n",
    "#     summarize(articles[:amt]) if amt else summarize(articles)"
   ]
  },
  {
   "cell_type": "code",
   "execution_count": 148,
   "metadata": {},
   "outputs": [],
   "source": [
    "# Summarization pipeline which takes in a single url\n",
    "def produce_summary(url):\n",
    "    response={}\n",
    "    # Request given article\n",
    "    article = bs(requests.get('https://'+url).text, 'html.parser')\n",
    "#     breakpoint()\n",
    "    # Get a list of all sentences in the article\n",
    "    response['date'] = article.find(class_='cs_time').text\n",
    "#     response['date'] = ' '.join(article.find('div', {'id':'JournalInfor_div_nav_journal'}).find('div').find_all('a')[1].text.split()[-2:])\n",
    "    sentences = []\n",
    "    for paragraph in article.find(class_='E-Title1').find_next_siblings('p', attrs={'style': None}): \n",
    "        if paragraph.text=='Acknowledgements':\n",
    "            break\n",
    "        elif paragraph.get('class'):\n",
    "            pass\n",
    "        else:\n",
    "            sentences.append(paragraph.text)\n",
    "#     container = article.find('div', {'id':'JournalInfor_div_paper'})\n",
    "    response['headline'] = article.find(class_='cs_t1').text\n",
    "#     article = container.find('div',{'id':'htmlContent'})\n",
    "#     paragraphs = article.findAll('p', attrs={'class': None})\n",
    "    \n",
    "#     sentences = [paragraph.text for paragraph in paragraphs]\n",
    "        \n",
    "    # Take just the text of the article and join it\n",
    "    response['joined_sentences'] = ' '.join(sentences)\n",
    "    \n",
    "    # Preprocess full text\n",
    "    formatted_text = re.sub(r'\\s+', ' ', response['joined_sentences'])\n",
    "    formatted_text = re.sub('[^a-zA-Z]', ' ', formatted_text )\n",
    "    formatted_text = re.sub(r'\\s+', ' ', formatted_text)\n",
    "    \n",
    "    # Retokenize processed sentences and load standard stopwords\n",
    "    sentence_list = nltk.sent_tokenize(response['joined_sentences'])\n",
    "    stopwords = nltk.corpus.stopwords.words('english')\n",
    "\n",
    "    # Determine word frequencies for full article\n",
    "    word_frequencies = {}\n",
    "    for word in nltk.word_tokenize(formatted_text):\n",
    "        if word not in stopwords:\n",
    "            if word not in word_frequencies.keys():\n",
    "                word_frequencies[word.lower()] = 1\n",
    "            else:\n",
    "                word_frequencies[word.lower()] += 1\n",
    "    maximum_frequncy = max(word_frequencies.values())\n",
    "\n",
    "    # Scale frequencies to most common non-stop word\n",
    "    for word in word_frequencies.keys():\n",
    "        word_frequencies[word] = (word_frequencies[word]/maximum_frequncy)\n",
    "        \n",
    "    # Get a score for each sentence based on the word frequencies that comprise it\n",
    "    sentence_scores = {}\n",
    "    for sent in sentence_list:\n",
    "        for word in nltk.word_tokenize(sent.lower()):\n",
    "            if word in word_frequencies.keys():\n",
    "                if len(sent.split(' ')) < 30:\n",
    "                    if sent not in sentence_scores.keys():\n",
    "                        sentence_scores[sent] = word_frequencies[word]\n",
    "                    else:\n",
    "                        sentence_scores[sent] += word_frequencies[word]\n",
    "    # Return sqrt(n) highest scoring sentences in descending order of weight \n",
    "    summary_sentences = heapq.nlargest(int(len(sentence_list)**(1/2)), sentence_scores, key=sentence_scores.get)\n",
    "    summary_sentences.sort(key=sentence_list.index)\n",
    "    response['summary'] = ' '.join(summary_sentences)\n",
    "    return response"
   ]
  },
  {
   "cell_type": "code",
   "execution_count": 149,
   "metadata": {},
   "outputs": [],
   "source": [
    "def summarize(article):\n",
    "#     for article in articles:\n",
    "#         breakpoint()\n",
    "    response = produce_summary(article['href'])\n",
    "\n",
    "    print('\\n'.join(\n",
    "        [response['headline'],\n",
    "         'by '+', '.join([', '.join(list(article['authors'].keys())), response['date']]),\n",
    "         re.sub(r'\\n',' ',response['summary']).strip()])+'\\n\\n')\n",
    "        "
   ]
  },
  {
   "cell_type": "code",
   "execution_count": 151,
   "metadata": {
    "scrolled": false
   },
   "outputs": [
    {
     "name": "stdout",
     "output_type": "stream",
     "text": [
      "Virological and Serological Markers in Dengue Patients from Venezuela and Nicaragua\n",
      "by Didye Ruiz, Susana V&aacute;zquez, Elci Villegas, Angel Balmaseda, Maritza Pupo, Mayling Alvarez, Delfina Rosario, Herminia Bendezu, Naifi Calzada, Maria G. Guzman, Received: February 16, 2017; Accepted: April 9, 2017; Published: April 12, 2017\n",
      "In the Venezuelan group 6 (8.5%) patients were classified as primary and 65 (91.5%) as secondary cases; 62 cases were classified as D and 9 as SD cases. The detection of the different markers in primary and secondary D cases was analysed in relation to the day of defervescence (day 0) (Figure 2). In primary cases (Figure 2(A)), NS1 was detected from day â4 to day 1, with the highest OD mean values before day 0. In secondary cases (Figure 2(B)), NS1 protein was detected as early as day â5 with the highest OD mean ratio on this day. NS1 was detected as early as day â3 and kept in detectable levels until day of defervescence (Figure 2(c)). In secondary SD cases (Figure 2(d)), levels of NS1 protein decreased in time and showed highest values in days before defervescence. Levels of NS1 remain detected until day >7, representing collected samples in the convalescence phase of illness (around day 10 or more of fever onset) (Figure 3(b)). For secondary SD cases, highest percentage (63.2%) was observed before day 0 and a persistence of NS1 protein similar to secondary D cases was detected (Figure 4(b)). However, in some samples from secondary cases, NS1 remain detectable at day 10 or more of onset of fever. In this study, highest IgA ratios were observed for secondary D and SD cases and mainly in samples collected after defervescence day. Therefore, anti-dengue IgA detection in serum samples could be evaluated as an alternative diagnostic for secondary dengue case definition in early phase of infection (between days 0 and 4).\n",
      "\n",
      "\n",
      "Effect of Ribose on Mature/Immature Raw Peanut Proteins and Their Allergenic Properties âMaillard Rx of Ribose with Mature/Immature Peanut Proteins and Their IgE Binding\n",
      "by Si-Yin Chung, Received January 3rd, 2011; revised February 18th, 2011; accepted March 21st, 2011.\n",
      "Using this assay, Maillard reaction adducts (MRA) have been found in immature and mature roasted peanuts [7]. Raw high-oleic and Florunner peanuts (mature and immature) were from the University of Florida, Gainesville, FL, U.S.A. and National Peanut Research Laboratory, Dawson, GA, U.S.A., respectively. Prior to extraction, peanuts were sorted, based on color, for Black (mature) and Yellow (immature), and also, based on seed size, for Jumbo (mature) and #1 (immature). The âgapâ region described above is indicative of a difference in level of Maillard reaction adducts and a unique feature between immature and mature raw peanuts. In this case, mature peanuts exhibited a higher level of Maillard reaction adducts than the immature. To further support the above data, Yellow (Ye) and Black (Bl) which were classified as immature and mature raw peanuts, based on the hull-scrape color method [10], were examined. Day 10 was chosen because as described above, it was the time when the size of the âgapâ region between immature and mature ribosetreated peanuts reached the maximum. In this case, Yellow (Ye) and Black (Bl) representing immature and mature raw high-oleic peanuts were used to compare with the normal peanuts (Florunner) (Figure 2). Figure 4 illustrates a typical profile of IgE binding of mature and immature peanuts (Jumbo and #1) treated with ribose at\n",
      "\n",
      "\n"
     ]
    }
   ],
   "source": [
    "get_articles('ige protein',2)"
   ]
  },
  {
   "cell_type": "code",
   "execution_count": 6,
   "metadata": {},
   "outputs": [],
   "source": [
    "def summarize(articles):\n",
    "    for url,headline in articles.items():\n",
    "        date, summary = produce_summary(url)\n",
    "\n",
    "        print('\\n'.join([headline,date,re.sub(r'\\n',' ',summary).strip()])+'\\n\\n')"
   ]
  },
  {
   "cell_type": "code",
   "execution_count": 18,
   "metadata": {
    "scrolled": false
   },
   "outputs": [
    {
     "name": "stdout",
     "output_type": "stream",
     "text": [
      "Lab-grown organoids are more stressed-out than actual brain cells\n",
      "2 hours ago\n",
      "Cells in these clumps have ambiguous identities and make more stress molecules than cells taken directly from human brains, researchers reported October 22 at the annual meeting of the Society for Neuroscience. These cellular clumps are grown using stem cells made from skin or blood, which under the right conditions can be coaxed into forming three-dimensional clusters of brain cells. These clusters, a type of organoid, are thought to re-create some aspects of early human brain development, a period that is otherwise difficult to study (SN: 2/20/18). What’s more, these organoid cells didn’t fit into the neat categories of cells in actual brain tissue.\n",
      "\n",
      "\n"
     ]
    }
   ],
   "source": [
    "get_articles('women', 1)"
   ]
  },
  {
   "cell_type": "code",
   "execution_count": 113,
   "metadata": {},
   "outputs": [
    {
     "name": "stdout",
     "output_type": "stream",
     "text": [
      "Algae inside blood vessels could act as oxygen factories\n",
      "6 hours ago\n",
      "It’s a strange mash-up, but it works: Algae living inside tadpoles’ blood vessels can pump out oxygen for nearby oxygen-starved nerve cells. I think it has great potential.” Even more futuristic possibilities include using algae in the veins of astronauts on long-haul space missions, says neurobiologist Hans Straka. “I wouldn’t call it crazy, but unconventional, let’s say.”  The researchers injected either green algae (Chlamydomonas reinhardtii) or cyanobacteria (Synechocystis) into tadpoles’ blood vessels, creating an eerie greenish animal. The algae might also be able to supply nerve cells with glucose, or even molecules that influence nerve cell behavior, he says.\n",
      "\n",
      "\n",
      "Aye-ayes just got weirder with the discovery of a tiny, sixth ‘finger’\n",
      "October 22, 2019 at 4:25 pm\n",
      "The tiny lemurs of Madagascar, known for their large cartoonish ears and continuously growing incisor teeth, also have a sixth “finger” on each hand. Giant pandas may have acquired that extra digit after the rest of their fingers became less specialized so that the bears could better walk. Instead, the little lemurs’ hands may have become too specialized, with thin, elongated fingers, including an especially long third digit that has a ball-and-socket joint. Then the primates bite the wood, puncturing a hole, and again use their long third finger for fishing out bugs and grubs found inside.\n",
      "\n",
      "\n",
      "Light from outside the brain can turn on nerve cells in monkey brains\n",
      "October 22, 2019 at 11:16 am\n",
      "Light pulses from outside a monkey’s brain can activate nerve cells deep within. This external control, described October 20 at the annual meeting of the Society for Neuroscience, might someday help scientists treat brain diseases such as epilepsy. Controlling nerve cell behavior with light, a method called optogenetics, often requires thin optical fibers to be implanted in the brain  .\n",
      "\n",
      "\n",
      "Prozac proves no better than a placebo in treating kids with autism\n",
      "October 22, 2019 at 3:00 pm\n",
      "Prozac, a commonly prescribed medication for kids and teens with autism, is no more effective than a placebo at treating obsessive-compulsive behaviors, a small study finds. Reddihough and her colleagues spent seven years recruiting participants for their clinical trial of Prozac, also known as fluoxetine, to test whether the drug was effective for children with autism. The researchers tracked changes in the subjects’ obsessive and compulsive symptoms, as measured by a behavioral survey used in other studies, before and after treatment. The new study helps show that “SSRIs are not the medication clinicians should go to first” for children and adolescents with autism.\n",
      "\n",
      "\n",
      "Alzheimer’s may scramble metabolism’s connection to sleep\n",
      "Sticky globs of amyloid-beta protein (brown in this illustration), a key sign of Alzheimer’s disease, alter how mice respond to changes in blood sugar, a study finds.\n",
      "“Your head is attached to your body,” says neuroscientist Shannon Macauley of Wake Forest School of Medicine in Winston-Salem, N.C. Metabolism, sleep and brain health “don’t happen in isolation,” she says. Injections of glucose into the blood led to changes in the brain: a burst of metabolism, a bump in nerve cell activity and more time spent awake. “They’re going to run around in a circle.”  But a dip in blood sugar, caused by insulin injections, also led to more nerve cell action and more wakefulness. In mice with amyloid plaques, higher blood sugar led to a slight rise in brain metabolism, but not nearly as much as in a normal mouse. In mice with lots of tau, however, high blood sugar didn’t increase brain metabolism.\n",
      "\n",
      "\n",
      "Powerful storms may be causing offshore ‘stormquakes’\n",
      "October 18, 2019 at 12:49 pm\n",
      "Powerful hurricanes can whip the ocean into a frenzy — and that wave energy can be strong enough to hammer the seafloor, producing a novel kind of quake. They analyzed seismic data collected from 2006 to 2015 by a network of moveable seismometers that marched across the country from west to east as part of the USArray. He became excited, he says, when he found what he thought were previously undetected offshore earthquakes occurring in that mysterious seismic band. Instead, stormquakes were confined to certain regions along the coast where seafloor topography maps indicated that there were small raised regions called ocean banks. Off New Jersey, Fan says, the seafloor descends in a gentle grade along the continental shelf toward deeper ocean. It’s interesting that the researchers were able to track the sources of some of the seismic signals back in time to the storms, says geophysicist Lucia Gualtieri of Stanford University.\n",
      "\n",
      "\n",
      "Humpback whales use their flippers and bubble ‘nets’ to catch fish\n",
      "October 15, 2019 at 7:01 pm\n",
      "Sometimes, the whales will swim in an upward spiral and blow bubbles underwater, creating a circular “net” of bubbles that makes it harder for fish to escape (SN: 10/20/15). Over the three-year study from 2016 to 2018, the team noticed that two whales repeatedly consolidated fish inside bubble nets using their two long, pectoral flippers. Although they observed the behavior in only a few whales feeding near salmon hatcheries  , Kosma speculates that other humpbacks also use their flippers in similar ways when feeding.\n",
      "\n",
      "\n",
      "50 years ago, an Antarctic fossil pointed to Gondwanaland’s existence\n",
      "October 10, 2019 at 8:00 am\n",
      "The animal lived on the continental mash-up of South America, Africa, India, Australia and Antarctica that existed from around 600 million to 180 million years ago. Another Antarctic expedition, in 1970, found a 200-million-year-old skeleton of a cynodont reptile, which resembled remains found in South America and India  .\n",
      "\n",
      "\n",
      "Strontium is the first heavy element detected from a neutron star merger\n",
      "3 hours ago\n",
      "For the first time, astronomers have definitively ID’d a specific heavy element forged by a neutron star merger. Evidence for the heavy element strontium appeared in the wavelengths of light, or spectra, of the afterglow from the first observed neutron star smashup  . Spectral analyses completed soon after the merger indicated that the collision had created a hodgepodge of heavy elements characteristic of the r-process  . Namely, the material that produced this strontium must have had an unusually low neutron density, compared with matter typically found inside a neutron star.\n",
      "\n",
      "\n",
      "Astronomers have spotted a new type of storm on Saturn\n",
      "October 21, 2019 at 11:00 am\n",
      "Telescope images have revealed a newfound type of storm activity that raged near Saturn’s North Pole in 2018, researchers report online October 21 in Nature Astronomy. Studying such storms can offer a window into deep atmospheric goings-on that aren’t directly observable, says Agustín Sánchez-Lavega, who studies planetary atmospheres at the University of the Basque Country in Bilbao, Spain. In 2018, telescopes on the ground and in space spotted a series of storms near Saturn’s North Pole (white spots indicated by black arrows). Not all of the storms were visible simultaneously; the shortest-lived lasted about 10 days while the longest-running storm raged for 214 days. These weather disturbances were larger than storms previously seen on the gas giant, but nowhere near as big as Saturn’s rare Great White Spots.\n",
      "\n",
      "\n",
      "How the second known interstellar visitor makes ‘Oumuamua seem even odder\n",
      "October 14, 2019 at 11:00 am\n",
      "The second space rock seen visiting our solar system from another star is proving just how bizarre the first known interstellar object, ‘Oumuamua, really was. Now, new telescope images confirm that a second interstellar object called 2I/Borisov (originally dubbed C/2019 Q4 (Borisov)) looks like a garden-variety comet, researchers report online October 14 in Nature Astronomy. Those images reveal that, like comets native to our solar system, 2I/Borisov’s core is shrouded in a gaseous halo trailed by a faint, broad stream of gas and dust. Preliminary wavelength observations have already hinted that 2I/Borisov contains cyanogen gas (made of carbon and nitrogen atoms), which is relatively common in comets native to the solar system.\n",
      "\n",
      "\n",
      "Google officially lays claim to quantum supremacy\n",
      "12 hours ago\n",
      "The researchers performed the task with a chip consisting of only 53 qubits, the quantum version of the bits found in everyday computers. But, says Preskill, of Caltech, the demonstration of quantum supremacy is not only a milestone in computing, but also an advance in scientists’ understanding of quantum mechanics. Using the computer, named Sycamore, Google researchers performed a task called random circuit sampling. In an October 21 blog post, those IBM researchers argue that their result means that Google hasn’t achieved quantum supremacy after all. IBM has not yet used a supercomputer to perform such a computation, however, so that leaves the quantum supremacy result in a “gray territory,” Kieferová says. Still, quantum supremacy is not a straightforward line to be crossed, says quantum physicist Simon Devitt, also of the University of Technology Sydney.\n",
      "\n",
      "\n"
     ]
    },
    {
     "name": "stdout",
     "output_type": "stream",
     "text": [
      "Physicists have found quasiparticles that mimic hypothetical dark matter axions\n",
      "October 15, 2019 at 7:00 am\n",
      "Lurking within a solid crystal is a phenomenon that is mathematically similar to proposed subatomic particles called axions, physicist Johannes Gooth and colleagues report online October 7 in Nature. If axions exist as fundamental particles, they could constitute a hidden form of matter in the cosmos, dark matter. The axions analogs within the crystal are a type of quasiparticle, a disturbance in a material that can mimic fundamental particles like axions. That current grew quickly as the researchers ramped up the electric field’s strength, in a way that is a fingerprint of axion quasiparticles.\n",
      "\n",
      "\n",
      "A new cooling technique relies on untwisting coiled fibers\n",
      "October 10, 2019 at 2:00 pm\n",
      "Called twistocaloric cooling, the method involves unwinding tightly twisted strands of various materials. The technique was used to chill water by several degrees Celsius, scientists report in the Oct. 11 Science. To study this effect, a team of scientists from China, the United States and Brazil twisted fibers of rubber, fishing line and wires made of a nickel and titanium alloy. When twisted tightly enough, the various types of strands formed coils or even supercoils — coils of coils.\n",
      "\n",
      "\n",
      "Readers contemplate climate change and neural connections\n",
      "September 18, 2019 at 6:00 am\n",
      "The story reminded reader Ron Blachman of the IronEx experiments, in which fertilizing the ocean with iron boosted carbon-absorbing algal blooms  . In theory, more blooms could mean more carbon gets stored in the deep ocean. Concern over climate change is resurrecting geoengineering ideas such as Blachman’s, says Science News earth and climate writer Carolyn Gramling. “But there’s a lot we don’t know about consequences.” Some experiments hint that iron fertilization of the ocean could boost levels of nitrous oxide or methane in the atmosphere.\n",
      "\n",
      "\n",
      "Climate change may be throwing coral sex out of sync\n",
      "September 13, 2019 at 9:00 am\n",
      "Spawning is out of sync for at least three widespread coral species in the Red Sea, says Tom Shlesinger, a marine biologist at Tel Aviv University. Shlesinger had seen corals spawn elsewhere, but the night he finally got the timing right to catch an event in the Red Sea was “magical,” he says. Data from 1980 to 1982 on the five studied species show consistent, synchronous patterns of mass spawning, based on regular lab exams of coral samples plus nighttime swims. Biologists have certainly fretted that climate change might also knock coral spawning synchrony askew, says James Guest, a coral biologist at Newcastle University in England. And some corals have a bit of natural play in their timing, says Taryn Foster, a coral biologist at the California Academy of Sciences in San Francisco. Every two or three seasons, they split their spawning into two separate bursts, thus coping with the way moon phases cycle faster than annual cues.\n",
      "\n",
      "\n",
      "In a climate crisis, is geoengineering worth the risks?\n",
      "October 6, 2019 at 8:00 am\n",
      "“We should investigate geoengineering in case we can’t change our behaviors fast enough to ward off the worst of climate change,” Democratic presidential candidate Andrew Yang notes on his campaign website. What hints scientists do have about the possible effects of geoengineering come from “natural experiments” such as massive volcanic eruptions that briefly but intensely alter atmospheric or ocean conditions  . Ocean seeding, or iron fertilization, is unusual among geoengineering projects: Unlike most geoengineering proposals, ocean seeding has actually been tried in the real world. But the experiments also prompted a powerful response from environmental groups, effectively halting follow-up ocean seeding experiments. Laboratory experiments suggested that as much as 100,000 metric tons of carbon per ton of iron added might be sequestered. Yet after several weeks of monitoring carbon export from the surface waters to deeper waters, the scientists estimated carbon sequestration to be only about 200 tons of carbon per ton of iron. Although the Gulf of Alaska did see subsequent blooms and the salmon catch broke records that year, the company ran afoul of Environment Canada and sparked a debate about opportunistic geoengineering.\n",
      "\n",
      "\n",
      "Malin Pinsky seeks to explain how climate change alters ocean life\n",
      "October 2, 2019 at 8:59 am\n",
      "Malin Pinsky had the first of two lightbulb moments while standing on the bridge of a research ship crossing the churning Drake Passage, which separates the tip of South America and Antarctica. Pinsky’s team is also seeking to understand exactly how a changing climate, as well as overfishing and habitat destruction, might be driving changes in fish and other marine populations. For this, team members travel each year to coral reefs near the Philippines to catalog populations of clown fish, collecting data on growth and mating, sex diversity and other factors. Another focus is whether recent climate change is leading to rapid genetic changes among Atlantic cod and other marine fishes and resulting in, for instance, fish maturing at younger ages. Marine biologist Michelle Stuart, who has worked in Pinsky’s lab at Rutgers since 2013, recalls sitting on the team’s boat, exhausted after a long day of fieldwork.\n",
      "\n",
      "\n",
      "How climate change is already altering oceans and ice, and what’s to come\n",
      "September 25, 2019 at 5:00 am\n",
      "The Greenland ice sheet lost an average 278 billion tons of ice per year from 2006 to 2015. Meanwhile, the Antarctic ice sheet lost an average 155 billion tons per year, or roughly enough to raise seas by an average 0.43 millimeters per year  . Even with global action against climate change, the two massive ice sheets are still expected to contribute a combined 11 centimeters or so of sea level rise by 2100. Aside from the ice that sits atop mountains and landmasses, thick ice blankets the Arctic Sea, with more expansive coverage in the Northern Hemisphere’s winter. Although the sea ice expands and contracts over the course of a year, the overall amount of ice has steadily declined since 1979, the IPCC says. So much melting has left little ice that has endured for at least five years (such hardened ice is expected to be sturdier than single-season ice). In fact, as of last year, the fraction of sea ice older than five years had declined by about 90 percent since 1979, the report says. In a low-emissions future, sea level rise could reach an average 4 millimeters per year in 2100, compared with 15 millimeters per year in a high-emissions future.\n",
      "\n",
      "\n",
      "IPCC report warns of a bleak future for oceans and frozen regions under climate change\n",
      "September 25, 2019 at 5:00 am\n",
      "Earth’s oceans and frozen regions are changing alarmingly quickly, scientists warn in the first comprehensive look at how greenhouse gas emissions are altering the planet’s seas and cryosphere. Since 1993, the rate of warming in the oceans has more than doubled, scientists report in a new study by the U.N. Intergovernmental Panel on Climate Change, or IPCC. And it came amidst a surge of global protests, climate strikes and calls for nations around the world to dramatically curb greenhouse gas emissions in hopes of limiting future warming. The new report emphasizes the need to “slash emissions, and do it quickly, or these impacts highlighted in the report will quickly become irreversible…. While the IPCC report rings an alarm bell, there is hope, says climate scientist Ove Hoegh-Guldberg, who heads the Global Change Institute at the University of Queensland in Australia. The U.N. climate meeting in December is also a prelude to a 2020 deadline for Paris Agreement signatories to submit revised and increasingly ambitious plans to reduce their emissions.\n",
      "\n",
      "\n",
      "Climate change could raise the risk of deadly fungal infections in humans\n",
      "July 26, 2019 at 6:00 am\n",
      "While fungal diseases have devastated many animal and plant species, humans and other mammals have mostly been spared. That’s probably because mammals have body temperatures too warm for most fungi to replicate as well as powerful immune systems. But climate change may be challenging those defenses, bringing new fungal threats to human health, a microbiologist warns. From 2012 to 2015, pathogenic versions of the fungus Candida auris arose independently in Africa, Asia and South America.\n",
      "\n",
      "\n",
      "Climate change may make El Niño and La Niña less predictable\n",
      "August 21, 2019 at 2:00 pm\n",
      "Climate change may make it harder to predict the most severe of the El Niño and La Niña weather disturbances in the Pacific Ocean. That’s because these events will become less connected with what happens halfway around the world in the Atlantic, researchers report online August 21 in Science Advances. But as the atmosphere gets warmer, that gas exchange is expected to become more sluggish, weakening the Atlantic’s sway over the Pacific. Future El Niños and La Niñas may not follow the Atlantic events as reliably as in the past, new simulations suggest.\n",
      "\n",
      "\n"
     ]
    },
    {
     "name": "stdout",
     "output_type": "stream",
     "text": [
      "Nepal is reeling from an unprecedented dengue outbreak\n",
      "As Nepal records at least 9,000 cases of dengue amid an unprecedented outbreak of the disease, workers are fumigating areas of Kathmandu against the mosquitoes that carry the disease.\n",
      "The country had its first-ever dengue outbreak in 2006, but only a handful of people were affected that year from lowland districts along the southern border with India. An estimated 390 million people worldwide get dengue infections every year, with about a quarter developing symptoms, researchers said in a 2013 paper in Nature. But studies show that atmospheric temperatures are the most important drivers for dengue distribution and risk, followed by rainfall patterns, according to a 2016 review paper in Environmental Research. With climate change, “warmer temperatures can affect both the mosquito and the virus,” says coauthor Kristie Ebi, a public health expert at the University of Washington in Seattle. A hotter climate helps mosquito larvae develop faster into adulthood, while also increasing the rate at which the dengue virus replicates within the mosquito, she says.\n",
      "\n",
      "\n",
      "Why this warmer world is not just a passing phase\n",
      "August 6, 2019 at 5:00 am\n",
      "And scientists are increasingly linking extreme weather events worldwide, from heat waves to hurricanes, to human-caused climate change  . Freelancer Mary Caperton Morton explains how policy makers and scientists are racing to develop responses to keep the venerable city functioning as the water moves inland. This one is clearly different, the data show: Those earlier temperature fluctuations were regional; what’s happening now is worldwide. People in Boston think they’re seeing it, as do people in many other communities around the world who are bracing for more extreme heat, rainfall, drought and storms.\n",
      "\n",
      "\n",
      "Climate misinformation may be thriving on YouTube, a social scientist warns\n",
      "August 19, 2019 at 6:00 am\n",
      "Those science skeptics questioned the fact that human activities are driving climate change, the use of chemotherapy to treat cancer and the safety of vaccines. Of those 200 videos, 89 support the established scientific premise that climate change is the result of human activities. But four feature neutral debates between scientists and climate change skeptics, and 16 deny that humans are causing climate change. Most strikingly, 91 videos promote conspiracy theories about climate change or climate engineering, particularly about so-called chemtrails, Allgaier reports July 25 in Frontiers in Communication. But newer terms like “geoengineering” and “climate modification” lead to those chemtrail videos almost 93 percent of the time.\n",
      "\n",
      "\n",
      "Hurricane Dorian’s slow pace makes it dangerous and hard to predict\n",
      "September 3, 2019 at 5:53 pm\n",
      "It slouched northward toward the U.S. coast as a category 2 hurricane, with sustained winds of about 177 kilometers per hour (110 miles per hour). That snail’s pace has stymied forecasters trying to determine the storm’s path as it heads toward the United States. Hall talked to Science News about Dorian’s stall and what scientists can and can’t say about linking slowed storms to climate change. Headlines and summaries of the latest Science News articles, delivered Tuesdays and Thursdays SN: Is there a link between stalling and climate change? Hall: [As far as what] we know about climate change and hurricanes, some things are virtually certain. One is how climate change might be affecting the path that hurricanes take, which would include the propensity to stall.\n",
      "\n",
      "\n"
     ]
    }
   ],
   "source": [
    "summarize(articles)"
   ]
  },
  {
   "cell_type": "code",
   "execution_count": null,
   "metadata": {},
   "outputs": [],
   "source": []
  }
 ],
 "metadata": {
  "kernelspec": {
   "display_name": "Climate",
   "language": "python",
   "name": "climate"
  },
  "language_info": {
   "codemirror_mode": {
    "name": "ipython",
    "version": 3
   },
   "file_extension": ".py",
   "mimetype": "text/x-python",
   "name": "python",
   "nbconvert_exporter": "python",
   "pygments_lexer": "ipython3",
   "version": "3.7.4"
  }
 },
 "nbformat": 4,
 "nbformat_minor": 2
}
